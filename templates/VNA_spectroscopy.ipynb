{
 "cells": [
  {
   "cell_type": "markdown",
   "metadata": {},
   "source": [
    "This notebook shows showcases of how to use every measurement function in cqed.custom_pysweep_functions.vna.py. It contains two classes of functions: functions that use the VNA in linear mode and functions that use the VNA in CW mode. \n",
    "\n",
    "\n",
    "\n"
   ]
  },
  {
   "cell_type": "markdown",
   "metadata": {},
   "source": [
    "# Imports"
   ]
  },
  {
   "cell_type": "code",
   "execution_count": null,
   "metadata": {
    "ExecuteTime": {
     "end_time": "2021-01-19T13:03:01.909400Z",
     "start_time": "2021-01-19T13:02:59.885976Z"
    }
   },
   "outputs": [],
   "source": [
    "import pysweep\n",
    "import pysweep.databackends.debug\n",
    "import pysweep.databackends.list_backend\n",
    "import pysweep.databackends.qcodes\n",
    "import pysweep.core.measurementfunctions\n",
    "from pysweep.core.sweepobject import SweepObject\n",
    "from pysweep.core.measurementfunctions import MakeMeasurementFunction\n",
    "from pysweep.databackends.base import DataParameterFixedAxis\n",
    "from pysweep.databackends.base import DataParameter\n",
    "import pysweep.convenience as conv\n",
    "\n",
    "import qcodes as qc\n",
    "from qcodes.dataset.measurements import Measurement\n",
    "import qcodes.dataset.plotting\n",
    "\n",
    "from cqed.utils.datahandling import create_local_dbase_in\n",
    "import cqed.custom_pysweep_functions.vna as cvna\n",
    "import cqed.custom_pysweep_functions.magnet as cmgnt\n",
    "\n",
    "import numpy as np\n",
    "import matplotlib.pyplot as plt"
   ]
  },
  {
   "cell_type": "markdown",
   "metadata": {},
   "source": [
    "# Set up station and QCoDeS database"
   ]
  },
  {
   "cell_type": "markdown",
   "metadata": {},
   "source": [
    "## Set up measurement station"
   ]
  },
  {
   "cell_type": "markdown",
   "metadata": {},
   "source": [
    "Choose the appropriate file for your measurement setup. The repo contains templates with commonly used instruments for K1 and K2."
   ]
  },
  {
   "cell_type": "code",
   "execution_count": null,
   "metadata": {
    "ExecuteTime": {
     "end_time": "2021-01-19T13:04:06.019476Z",
     "start_time": "2021-01-19T13:04:05.979649Z"
    }
   },
   "outputs": [],
   "source": [
    "station = qc.Station(config_file=r'C:\\code\\environments\\qcodes_dev\\cqed\\station_init\\LK2.station.yaml')"
   ]
  },
  {
   "cell_type": "markdown",
   "metadata": {},
   "source": [
    "## Set up instruments"
   ]
  },
  {
   "cell_type": "markdown",
   "metadata": {},
   "source": [
    "For this example we are only going to be using the ZNB20 VNA from R&S."
   ]
  },
  {
   "cell_type": "code",
   "execution_count": null,
   "metadata": {
    "ExecuteTime": {
     "end_time": "2021-01-19T13:04:09.670571Z",
     "start_time": "2021-01-19T13:04:09.170203Z"
    }
   },
   "outputs": [],
   "source": [
    "vna = station.load_instrument('vna')\n",
    "\n",
    "vna.add_channel('S21')\n",
    "station.vna.S21.power(-50)\n",
    "station.vna.S21.start(4e9)\n",
    "station.vna.S21.stop(8.5e9)\n",
    "station.vna.S21.bandwidth(1e3)\n",
    "station.vna.S21.npts(10001)\n",
    "\n",
    "# Automatically remove the cable delay from the phase signal\n",
    "# Should be checked in large frequency range and with higer readout power\n",
    "# Often can be fine-tuned a bit better by hand.\n",
    "station.vna.S21.set_electrical_delay_auto()"
   ]
  },
  {
   "cell_type": "markdown",
   "metadata": {},
   "source": [
    "## Pass measurement station to pysweep \n"
   ]
  },
  {
   "cell_type": "code",
   "execution_count": null,
   "metadata": {
    "ExecuteTime": {
     "end_time": "2021-01-19T13:04:12.650187Z",
     "start_time": "2021-01-19T13:04:12.646202Z"
    }
   },
   "outputs": [],
   "source": [
    "pysweep.STATION = station"
   ]
  },
  {
   "cell_type": "markdown",
   "metadata": {},
   "source": [
    "## Name and initialize database"
   ]
  },
  {
   "cell_type": "code",
   "execution_count": null,
   "metadata": {
    "ExecuteTime": {
     "end_time": "2021-01-19T13:04:16.979299Z",
     "start_time": "2021-01-19T13:04:16.821992Z"
    }
   },
   "outputs": [],
   "source": [
    "# To place the database in D:/Data/MyExperiment/ use:\n",
    "folder = 'MyExperiment'\n",
    "\n",
    "# To place the database in a more nested folder structure, e.g. D:/Data/MyExperiment/TestSample/FirstMeasurements/, use:\n",
    "# folder = 'MyExperiment/TestSample/FirstMeasurements'\n",
    "\n",
    "# Name your database\n",
    "database_name = 'yyyy_mm_dd_Run1'\n",
    "\n",
    "create_local_dbase_in(folder_name=folder, db_name='%s.db' %(database_name))\n",
    "\n",
    "qc.config['core']['db_location']"
   ]
  },
  {
   "cell_type": "markdown",
   "metadata": {},
   "source": [
    "# Linear VNA Mode"
   ]
  },
  {
   "cell_type": "markdown",
   "metadata": {},
   "source": [
    "Linear mode is the main mode of the VNA, where it measures S parameters over a certain frequency range. This is the mode we will use most often, for example for studying resonators."
   ]
  },
  {
   "cell_type": "markdown",
   "metadata": {},
   "source": [
    "##  Single VNA trace"
   ]
  },
  {
   "cell_type": "markdown",
   "metadata": {},
   "source": [
    "This just records a single VNA trace with the VNA parameters currently set or set (if specified) in the init_measurement function."
   ]
  },
  {
   "cell_type": "code",
   "execution_count": null,
   "metadata": {
    "ExecuteTime": {
     "end_time": "2021-01-19T13:04:39.968324Z",
     "start_time": "2021-01-19T13:04:30.074716Z"
    }
   },
   "outputs": [],
   "source": [
    "# Function called before beginning of measurement loop.\n",
    "# This is a good place to define the VNA sweep parameters. Can also be made a function with changable parameters.\n",
    "\n",
    "def init_measurement(d):\n",
    "    # some example parameters that could be set in the init function\n",
    "    station.vna.rf_on()\n",
    "    station.vna.S21.start(4e9)\n",
    "    station.vna.S21.stop(5e9)\n",
    "    station.vna.S21.npts(1001)\n",
    "    \n",
    "    station.vna.S21.power(-20)\n",
    "    station.vna.S21.bandwidth(1e3)\n",
    "    station.vna.S21.avg(10)\n",
    "    \n",
    "    print('Starting measurement.')\n",
    "    \n",
    "# Function called after the end of the measurement.\n",
    "def end_measurement(d):\n",
    "    print('Measurement finished.')\n",
    "\n",
    "# Give your sample a meaningful name.\n",
    "sample_name = 'sample1'\n",
    "\n",
    "exp = qc.load_or_create_experiment(experiment_name='single_VNA_trace', sample_name=sample_name)\n",
    "meas = Measurement(exp, station)\n",
    "\n",
    "result = pysweep.sweep(init_measurement, end_measurement, cvna.measure_linear_sweep(),\n",
    "                 databackend = pysweep.databackends.qcodes.DataBackend(meas))"
   ]
  },
  {
   "cell_type": "markdown",
   "metadata": {},
   "source": [
    "For plotting of the generated dataset in the notebook directly"
   ]
  },
  {
   "cell_type": "code",
   "execution_count": null,
   "metadata": {
    "ExecuteTime": {
     "end_time": "2021-01-19T13:04:47.434958Z",
     "start_time": "2021-01-19T13:04:46.950088Z"
    }
   },
   "outputs": [],
   "source": [
    "qc.dataset.plotting.plot_dataset(result.datasaver.dataset)"
   ]
  },
  {
   "cell_type": "markdown",
   "metadata": {},
   "source": [
    "Alternatively to using the init_measurement function, one can also specify parameters to be ussed during the measurement in measure_linear_sweep itself through keyword arguments such as they appear in 'cvna.setup_vna'. Note that parameters are only set such keyword arguments are present, so this functionality does not incur any speed penalty."
   ]
  },
  {
   "cell_type": "code",
   "execution_count": null,
   "metadata": {
    "ExecuteTime": {
     "end_time": "2021-01-19T13:15:52.646991Z",
     "start_time": "2021-01-19T13:15:51.542511Z"
    }
   },
   "outputs": [],
   "source": [
    "def init_measurement(d):\n",
    "    station.vna.rf_on()\n",
    "    station.vna.S21.start(4e9)\n",
    "    station.vna.S21.stop(5e9)\n",
    "    station.vna.S21.npts(1001)\n",
    "    station.vna.S21.power(-20)\n",
    "    station.vna.S21.bandwidth(1e3)\n",
    "    station.vna.S21.avg(10)\n",
    "    \n",
    "    print('Starting measurement.')\n",
    "    \n",
    "def end_measurement(d):\n",
    "    print('Measurement finished.')\n",
    "\n",
    "sample_name = 'sample1'\n",
    "\n",
    "exp = qc.load_or_create_experiment(experiment_name='single_VNA_trace', sample_name=sample_name)\n",
    "meas = Measurement(exp, station)\n",
    "\n",
    "result = pysweep.sweep(init_measurement, end_measurement, cvna.measure_linear_sweep(center=5e9, span=10e6, npts=1001),\n",
    "                 databackend = pysweep.databackends.qcodes.DataBackend(meas))"
   ]
  },
  {
   "cell_type": "code",
   "execution_count": null,
   "metadata": {},
   "outputs": [],
   "source": [
    "qc.dataset.plotting.plot_dataset(result.datasaver.dataset)"
   ]
  },
  {
   "cell_type": "markdown",
   "metadata": {},
   "source": [
    "Even though we set a range of 4 to 5 GHz in the init_measurement, these settings were overwritten upon actually executing the measurement function. You may ask why you want to do this. an example of that is measuring multiple resonators in the same measurement. "
   ]
  },
  {
   "cell_type": "markdown",
   "metadata": {},
   "source": [
    "## Measuring multiple VNA traces"
   ]
  },
  {
   "cell_type": "markdown",
   "metadata": {},
   "source": [
    "We have two ways of measuring N VNA traces in the same measurement. The first is through pysweeps addition function and the use of the optional suffix argument"
   ]
  },
  {
   "cell_type": "code",
   "execution_count": null,
   "metadata": {
    "ExecuteTime": {
     "end_time": "2021-01-19T13:09:04.496530Z",
     "start_time": "2021-01-19T13:08:44.956325Z"
    }
   },
   "outputs": [],
   "source": [
    "exp = qc.load_or_create_experiment(experiment_name='multiple_VNA_traces_suffix', sample_name=sample_name)\n",
    "meas = Measurement(exp, station)\n",
    "\n",
    "meas_res_0 = cvna.measure_linear_sweep(suffix='_0', center=5e9, span=10e6, npts=1001)\n",
    "meas_res_1 = cvna.measure_linear_sweep(suffix='_1', center=6e9, span=10e6, npts=1001)\n",
    "\n",
    "result = pysweep.sweep(init_measurement, end_measurement, meas_res_0 + meas_res_1,\n",
    "                 databackend = pysweep.databackends.qcodes.DataBackend(meas))"
   ]
  },
  {
   "cell_type": "markdown",
   "metadata": {},
   "source": [
    "This procedure can become a little cumbersome when one has many different traces to measure. For this reason we have the helper function 'measure_multiple_linear_sweeps' which allows the user to give lists or arrays of parameter arguments, from which the concatenation of measurement functions is then automatically created."
   ]
  },
  {
   "cell_type": "code",
   "execution_count": null,
   "metadata": {
    "ExecuteTime": {
     "end_time": "2021-01-19T13:15:14.592583Z",
     "start_time": "2021-01-19T13:14:35.548865Z"
    }
   },
   "outputs": [],
   "source": [
    "# Set centerfrequencies for individual resonators\n",
    "center_list = [5.0e9, 5.5e9, 6.0e9, 6.5e9]\n",
    "# Set measurement spans for individual resonators\n",
    "span_list = [20e6, 20e6, 20e6, 20e6]\n",
    "\n",
    "exp = qc.load_or_create_experiment(experiment_name='multiple_VNA_traces_helperfun', sample_name=sample_name)\n",
    "meas = Measurement(exp, station)\n",
    "\n",
    "meas_multiple = eval(cvna.measure_multiple_linear_sweeps(center_list=center_list, span_list=span_list))\n",
    "\n",
    "result = pysweep.sweep(init_measurement, end_measurement, meas_multiple,\n",
    "                 databackend = pysweep.databackends.qcodes.DataBackend(meas))"
   ]
  },
  {
   "cell_type": "markdown",
   "metadata": {},
   "source": [
    "## Parameter sweep"
   ]
  },
  {
   "cell_type": "markdown",
   "metadata": {},
   "source": [
    "The next thing one might like to do is measure a VNA sweep versus a QCoDeS parameter, such as the VNA power. This proceeds as follows:"
   ]
  },
  {
   "cell_type": "code",
   "execution_count": null,
   "metadata": {
    "ExecuteTime": {
     "end_time": "2021-01-19T13:16:12.823779Z",
     "start_time": "2021-01-19T13:16:05.534376Z"
    }
   },
   "outputs": [],
   "source": [
    "exp = qc.load_or_create_experiment(experiment_name='VNA_vs_pwr', sample_name=sample_name)\n",
    "meas = Measurement(exp, station)\n",
    "\n",
    "\n",
    "result = pysweep.sweep(init_measurement, end_measurement, cvna.measure_linear_sweep(),\n",
    "                       pysweep.sweep_object(station.vna.S21.power, np.arange(-50, -15, 5)),\n",
    "                       databackend = pysweep.databackends.qcodes.DataBackend(meas))"
   ]
  },
  {
   "cell_type": "markdown",
   "metadata": {},
   "source": [
    "Be careful that if one had provided the keyword argument 'pwr' to 'measure_linear_sweep' this would have overwritten the power set by the sweep object."
   ]
  },
  {
   "cell_type": "markdown",
   "metadata": {},
   "source": [
    "Such sweeps also work when measuring multiple VNA traces:"
   ]
  },
  {
   "cell_type": "code",
   "execution_count": null,
   "metadata": {
    "ExecuteTime": {
     "end_time": "2021-01-19T13:16:37.191512Z",
     "start_time": "2021-01-19T13:16:22.347629Z"
    }
   },
   "outputs": [],
   "source": [
    "exp = qc.load_or_create_experiment(experiment_name='multiple_VNA_traces_vs_power', sample_name=sample_name)\n",
    "meas = Measurement(exp, station)\n",
    "\n",
    "meas_res_0 = cvna.measure_linear_sweep(suffix='_0', center=5e9, span=10e6, npts=1001)\n",
    "meas_res_1 = cvna.measure_linear_sweep(suffix='_1', center=6e9, span=10e6, npts=1001)\n",
    "\n",
    "result = pysweep.sweep(init_measurement, end_measurement, meas_res_0 + meas_res_1,\n",
    "                       pysweep.sweep_object(station.vna.S21.power, np.arange(-50, -15, 5)),\n",
    "                       databackend = pysweep.databackends.qcodes.DataBackend(meas))"
   ]
  },
  {
   "cell_type": "markdown",
   "metadata": {},
   "source": [
    "## Finding resonances in the VNA sweep"
   ]
  },
  {
   "cell_type": "markdown",
   "metadata": {},
   "source": [
    "Oftentimes in our measurements the VNA will be used to find resonances, and frequently the measurement that comes after depends on where that resonance frequency was. An example of that is two-tone spectroscopy, which we return to in the CW section. Our vna module offers a function that wraps around 'measure_linear_sweep' to find resonancse and store their values in the pysweep waterfall dictionary. This can proceed as follows:"
   ]
  },
  {
   "cell_type": "markdown",
   "metadata": {},
   "source": [
    "We first import or build a peak finding function"
   ]
  },
  {
   "cell_type": "code",
   "execution_count": null,
   "metadata": {
    "ExecuteTime": {
     "end_time": "2021-01-19T13:17:46.961497Z",
     "start_time": "2021-01-19T13:17:46.955523Z"
    }
   },
   "outputs": [],
   "source": [
    "from cqed.utils.peak_finding import find_peak_literal\n",
    "resonance_finder = lambda x,y : find_peak_literal(x, y, dip=True, dBm=True)"
   ]
  },
  {
   "cell_type": "code",
   "execution_count": null,
   "metadata": {
    "ExecuteTime": {
     "end_time": "2021-01-19T13:17:50.959034Z",
     "start_time": "2021-01-19T13:17:48.372341Z"
    }
   },
   "outputs": [],
   "source": [
    "exp = qc.load_or_create_experiment(experiment_name='VNA_trace_with_peakfinding', sample_name=sample_name)\n",
    "meas = Measurement(exp, station)\n",
    "\n",
    "\n",
    "find_resonator = cvna.measure_resonance_frequency(peak_finder=resonance_finder, save_trace=True, center=6.055e9, span=50e6, fstep=0.2e6, navgs=10, bw=1e3, pwr=-37)\n",
    "\n",
    "result = pysweep.sweep(init_measurement, end_measurement, find_resonator,\n",
    "                 databackend = pysweep.databackends.qcodes.DataBackend(meas))"
   ]
  },
  {
   "cell_type": "markdown",
   "metadata": {},
   "source": [
    "In addition to the VNA trace itself (which was saved because save_true=True was used), the dataset now also contains the resonance frequency:"
   ]
  },
  {
   "cell_type": "code",
   "execution_count": null,
   "metadata": {
    "ExecuteTime": {
     "end_time": "2021-01-19T13:18:00.716979Z",
     "start_time": "2021-01-19T13:18:00.708018Z"
    }
   },
   "outputs": [],
   "source": [
    "d = qc.load_by_id(result.datasaver.run_id)\n",
    "resonance_frequency = d.get_parameter_data('resonance_frequency')['resonance_frequency']['resonance_frequency'][0]\n",
    "print(resonance_frequency)"
   ]
  },
  {
   "cell_type": "markdown",
   "metadata": {},
   "source": [
    "Why is this useful? That resonance frequency can now be used by other measurement functions in the same measurement. An example of where that comes in handy is in adaptive measurements."
   ]
  },
  {
   "cell_type": "markdown",
   "metadata": {},
   "source": [
    "## Adaptive VNA measurements"
   ]
  },
  {
   "cell_type": "markdown",
   "metadata": {},
   "source": [
    "It frequently comes up that one would like to measure a resonance frequency versus a control parameter that is able to change that frequency, such as a gate voltage or the magnetic field. But one does not always know in what direction or over what range the frequency might move during the measurement. One way of dealing with that is measuring over a very large range. This will work, but it means you spend most of your measurement time on featureless backgrounds. Instead, one can choose for an adaptive measurement strategy. \n",
    "\n",
    "We have implemented a naive first approach to doing so, but one can think of a large number of more complicated methods. So far it has not yet been neccesary, but we have a number of ideas. \n",
    "\n",
    "The method we currently support is first doing a fast, broad frequency range scan from which you find the resonance, followed by a slow, zoomed in scan around that resonance. This proceeds as follows"
   ]
  },
  {
   "cell_type": "code",
   "execution_count": null,
   "metadata": {
    "ExecuteTime": {
     "end_time": "2021-01-19T13:19:04.088769Z",
     "start_time": "2021-01-19T13:19:02.727137Z"
    }
   },
   "outputs": [],
   "source": [
    "exp = qc.load_or_create_experiment(experiment_name='adaptive_VNA_trace', sample_name=sample_name)\n",
    "meas = Measurement(exp, station)\n",
    "\n",
    "\n",
    "find_resonator = cvna.measure_resonance_frequency(peak_finder=resonance_finder, save_trace=True, suffix='_coarse', center=6.055e9, span=35e6, fstep=0.5e6, navgs=2, bw=1e3, pwr=-30)\n",
    "measure_resonator = cvna.measure_adaptive_linear_sweep(suffix='_fine', span=10e6, fstep=0.1e6, navgs=10, bw=1e3, pwr=-37)\n",
    "\n",
    "result = pysweep.sweep(init_measurement, end_measurement, find_resonator + measure_resonator,\n",
    "                 databackend = pysweep.databackends.qcodes.DataBackend(meas))"
   ]
  },
  {
   "cell_type": "markdown",
   "metadata": {},
   "source": [
    "# CW VNA mode"
   ]
  },
  {
   "cell_type": "markdown",
   "metadata": {},
   "source": [
    "Continuous wave (CW) mode is a second mode of the VNA that we frequently use. In those mode, the VNA frequency is not swept, but instead the transmission is read out N times at a single frequency with a certain bandwidth. Two example cases where this comes in handy are two-tone spectroscopy and time traces. "
   ]
  },
  {
   "cell_type": "markdown",
   "metadata": {},
   "source": [
    "## Two tone spectroscopy"
   ]
  },
  {
   "cell_type": "markdown",
   "metadata": {},
   "source": [
    "In a nutshell, two tone spectroscopy involves monitoring the signal for a fixed frequency of the first tone while the frequency of a second tone is swept. Our modules offer two ways of doing so, which we showcase in this section. \n",
    "\n",
    "First we are going to need the instrument we use for the second tone, which we name the qubsrc (qubit source)"
   ]
  },
  {
   "cell_type": "code",
   "execution_count": null,
   "metadata": {
    "ExecuteTime": {
     "end_time": "2021-01-19T13:19:44.933583Z",
     "start_time": "2021-01-19T13:19:44.768369Z"
    }
   },
   "outputs": [],
   "source": [
    "qubsrc = station.load_qubsrc()\n",
    "qubsrc.modulation_rf('OFF')\n",
    "#we add some custom named parameters as their names can conflict with those of the VNA\n",
    "qubsrc.add_parameter('drive_freq', set_cmd=qubsrc.frequency,\n",
    "                    get_cmd=None, unit='Hz')\n",
    "qubsrc.add_parameter('drive_power', set_cmd=qubsrc.power,\n",
    "                    get_cmd=None, unit='dBm')\n",
    "\n",
    "\n"
   ]
  },
  {
   "cell_type": "markdown",
   "metadata": {},
   "source": [
    "The first method of two-tone spectroscopy simply sets up the VNA in CW mode, measures a mag-phase pair using 'return_cw_point' and then sweeps the frequency of a second tone as a pysweep object."
   ]
  },
  {
   "cell_type": "code",
   "execution_count": null,
   "metadata": {
    "ExecuteTime": {
     "end_time": "2021-01-19T13:21:42.412863Z",
     "start_time": "2021-01-19T13:21:00.688114Z"
    }
   },
   "outputs": [],
   "source": [
    "def init_measurement(d): \n",
    "    t_int = 100e-3\n",
    "    bw = 1e2\n",
    "    station.vna.rf_on() \n",
    "    station.vna.S21.setup_cw_sweep()\n",
    "    station.vna.S21.cw_frequency(resonance_frequency)\n",
    "    station.vna.S21.bandwidth(bw)\n",
    "    station.vna.S21.npts(int(np.round(t_int*bw)))\n",
    "    station.vna.S21.power(-47)\n",
    "    qubsrc.power(-45)\n",
    "    qubsrc.output_rf('ON')\n",
    "    qubsrc.modulation_rf('OFF')\n",
    "    print('Starting measurement.')\n",
    "\n",
    "def end_measurement(d):\n",
    "    qubsrc.output_rf('OFF')\n",
    "    station.vna.rf_off()\n",
    "    print('Measurement finished.')\n",
    "\n",
    "sample_name = 'sample1'\n",
    "exp = qc.load_or_create_experiment(experiment_name='2tone_trace_pysweep', sample_name=sample_name)\n",
    "meas = Measurement(exp, station)\n",
    "\n",
    "result = pysweep.sweep(init_measurement, end_measurement, \n",
    "                       cvna.measure_cw_point(),\n",
    "                       pysweep.sweep_object(qubsrc.drive_freq, np.arange(3.5e9, 5.5e9, 5e6)),\n",
    "                       databackend = pysweep.databackends.qcodes.DataBackend(meas))\n",
    "\n"
   ]
  },
  {
   "cell_type": "markdown",
   "metadata": {},
   "source": [
    "Note that instead of using the init we could once more have specified the VNA parameters as keyword arguments to 'return_cw_point' (see its documentation with cvna.return_cw_point?)"
   ]
  },
  {
   "cell_type": "markdown",
   "metadata": {},
   "source": [
    "## Two tone spectroscopy as a meta instrument"
   ]
  },
  {
   "cell_type": "markdown",
   "metadata": {},
   "source": [
    "A second way of doing two-tone spectroscopy involves 'measure_twotone_sweep', which is a measurement function that acts as a sort of metainstrument encompassing both the VNA and the qubsrc. Essentially the sweep of the second tone is implicitly included in the measurement itself. This is mainly useful if your twotone measurement is just one step in a longer chain, where the later steps require you to extract quantities from the twotone result. We will see an example of how this works a few cells down. This also helps getting around that pysweep only allows 3D scans (while we might want to sweep frequency, gate, flux and field in a single measurement, for example) but that is less common.\n",
    "\n",
    "Note that for the future I would actually like to create a proper QCoDeS metainstrument that makes things a bit cleaner, but I have not done so yet. The current implementation works as follows"
   ]
  },
  {
   "cell_type": "code",
   "execution_count": null,
   "metadata": {
    "ExecuteTime": {
     "end_time": "2021-01-19T13:24:20.395126Z",
     "start_time": "2021-01-19T13:23:34.769830Z"
    }
   },
   "outputs": [],
   "source": [
    "t_int = 100e-3\n",
    "bw = 1e2\n",
    "npts = int(np.round(t_int*bw))\n",
    "\n",
    "def init_measurement(d): \n",
    "    station.vna.rf_on() \n",
    "    station.vna.S21.setup_cw_sweep()\n",
    "    qubsrc.output_rf('ON')\n",
    "    qubsrc.modulation_rf('OFF')\n",
    "    print('Starting measurement.')\n",
    "\n",
    "def end_measurement(d):\n",
    "    qubsrc.output_rf('OFF')\n",
    "    station.vna.rf_off()\n",
    "    print('Measurement finished.')\n",
    "\n",
    "sample_name = 'sample1'\n",
    "\n",
    "exp = qc.load_or_create_experiment(experiment_name='2tone_trace_selfcontained', sample_name=sample_name)\n",
    "meas = Measurement(exp, station)\n",
    "\n",
    "find_resonator = cvna.measure_resonance_frequency(peak_finder=resonance_finder, suffix='_0', save_trace=True, center=6.055e9, span=50e6, fstep=0.2e6, navgs=10, bw=1e3, pwr=-37)\n",
    "\n",
    "\n",
    "result = pysweep.sweep(init_measurement, end_measurement, \n",
    "                       find_resonator + cvna.measure_twotone_sweep(frequencies=np.arange(3.5e9, 5.5e9, 5e6), qubsrc_power=-35, suffix='_1', bw=bw, npts=npts, pwr=-47),\n",
    "                       databackend = pysweep.databackends.qcodes.DataBackend(meas))"
   ]
  },
  {
   "cell_type": "markdown",
   "metadata": {},
   "source": [
    "## Two tone spectroscopy with peak finding"
   ]
  },
  {
   "cell_type": "markdown",
   "metadata": {},
   "source": [
    "As we mentioned, this measurement function mainly shines when you want to do something with the outcome of the twotone measurement result. An example is finding the qubit frequency; this is implemented in analogy with finding the resonator frequency"
   ]
  },
  {
   "cell_type": "code",
   "execution_count": null,
   "metadata": {
    "ExecuteTime": {
     "end_time": "2021-01-19T13:25:23.151079Z",
     "start_time": "2021-01-19T13:25:23.147097Z"
    }
   },
   "outputs": [],
   "source": [
    "qub_finder = lambda x,y : find_peak_literal(x,y,dip=False, dBm=True)"
   ]
  },
  {
   "cell_type": "code",
   "execution_count": null,
   "metadata": {
    "ExecuteTime": {
     "end_time": "2021-01-19T13:27:06.346979Z",
     "start_time": "2021-01-19T13:26:20.862835Z"
    }
   },
   "outputs": [],
   "source": [
    "def init_measurement(d):    \n",
    "    print('Starting measurement.')\n",
    "\n",
    "\n",
    "def end_measurement(d):\n",
    "    qubsrc.output_rf('OFF')\n",
    "    station.vna.rf_off()\n",
    "    print('Measurement finished.')\n",
    "\n",
    "sample_name = 'sample'\n",
    "\n",
    "exp = qc.load_or_create_experiment(experiment_name='find_resonator_and_qubit', sample_name=sample_name)\n",
    "meas = Measurement(exp, station)\n",
    "\n",
    "find_resonator = cvna.measure_resonance_frequency(peak_finder=resonance_finder, suffix='_res', save_trace=True, center=6.055e9, span=50e6, fstep=0.2e6, navgs=10, bw=1e3, pwr=-37)\n",
    "find_qubit = cvna.measure_qubit_frequency(frequencies=np.arange(3.5e9, 5.5e9, 5e6), qubsrc_power=-35, \n",
    "                                          suffix='_qub', save_trace=True, peak_finder=qub_finder, bw=1e2, npts=10, pwr=-47)\n",
    "\n",
    "result = pysweep.sweep(init_measurement, end_measurement, \n",
    "                       find_resonator + find_qubit,\n",
    "                       databackend = pysweep.databackends.qcodes.DataBackend(meas))\n",
    "d = qc.load_by_id(result.datasaver.run_id)\n",
    "qubit_frequency = d.get_parameter_data('qubit_frequency_qub')['qubit_frequency_qub']['qubit_frequency_qub'][0]\n",
    "print(qubit_frequency)"
   ]
  },
  {
   "cell_type": "markdown",
   "metadata": {},
   "source": [
    "## Time traces"
   ]
  },
  {
   "cell_type": "markdown",
   "metadata": {},
   "source": [
    "A second usecase of the VNA in CW mode is taking time traces. Think of studying time resolved phenomena quasiparticle poisoning, but also debugging purposes such as looking at the power spectral density of your measurement signal."
   ]
  },
  {
   "cell_type": "code",
   "execution_count": null,
   "metadata": {
    "ExecuteTime": {
     "end_time": "2021-01-19T13:39:21.131102Z",
     "start_time": "2021-01-19T13:39:10.281521Z"
    }
   },
   "outputs": [],
   "source": [
    "def init_measurement(d): \n",
    "    print('Starting measurement.')\n",
    "def end_measurement(d):\n",
    "    print('Measurement finished.')\n",
    "\n",
    "sample_name = 'sample'\n",
    "exp = qc.load_or_create_experiment(experiment_name='time_trace', sample_name=sample_name)\n",
    "meas = Measurement(exp, station)\n",
    "\n",
    "result = pysweep.sweep(init_measurement, end_measurement, \n",
    "                       cvna.measure_cw_sweep(cw_frequency=resonance_frequency, t_int=10, bw=1e4, pwr=-37),\n",
    "                       databackend = pysweep.databackends.qcodes.DataBackend(meas))\n",
    "\n"
   ]
  },
  {
   "cell_type": "markdown",
   "metadata": {},
   "source": [
    "One can look at the time trace in the IQ plane"
   ]
  },
  {
   "cell_type": "code",
   "execution_count": null,
   "metadata": {
    "ExecuteTime": {
     "end_time": "2021-01-19T13:39:21.170931Z",
     "start_time": "2021-01-19T13:39:21.133098Z"
    }
   },
   "outputs": [],
   "source": [
    "data = qc.load_by_id(result.datasaver.run_id)\n",
    "I = data.get_parameter_data('I')[\"I\"][\"I\"][0]\n",
    "Q = data.get_parameter_data('Q')[\"Q\"][\"Q\"][0]\n",
    "times = data.get_parameter_data('Q')[\"Q\"][\"time\"][0]"
   ]
  },
  {
   "cell_type": "code",
   "execution_count": null,
   "metadata": {
    "ExecuteTime": {
     "end_time": "2021-01-19T13:39:21.351136Z",
     "start_time": "2021-01-19T13:39:21.172923Z"
    }
   },
   "outputs": [],
   "source": [
    "plt.figure()\n",
    "plt.hist2d(I,Q, bins=(50, 50), cmap='Greys')\n",
    "plt.plot()"
   ]
  },
  {
   "cell_type": "markdown",
   "metadata": {},
   "source": [
    "Or instead look at the power spectral density"
   ]
  },
  {
   "cell_type": "code",
   "execution_count": null,
   "metadata": {
    "ExecuteTime": {
     "end_time": "2021-01-19T13:39:22.085579Z",
     "start_time": "2021-01-19T13:39:21.353129Z"
    }
   },
   "outputs": [],
   "source": [
    "ys_fft = np.abs(np.fft.fft((Q - np.mean(Q))+1j*(I - np.mean(I))))**2\n",
    "dt = np.diff(times)[0]\n",
    "fmax = 1. / (dt)\n",
    "df = 1. / (len(times)*dt)\n",
    "pts_fft = int(len(times) / 2)\n",
    "fs1 = np.linspace(0, fmax / 2.-df, pts_fft)\n",
    "fs2 = np.linspace(fmax / 2., df, pts_fft)\n",
    "fs = np.append(fs1, -fs2)\n",
    "\n",
    "plt.figure()\n",
    "plt.plot(fs[1:pts_fft], ys_fft[1:pts_fft])\n",
    "plt.yscale('log')\n",
    "plt.xscale('log')"
   ]
  },
  {
   "cell_type": "markdown",
   "metadata": {},
   "source": [
    "## Averaged PSD measurements"
   ]
  },
  {
   "cell_type": "markdown",
   "metadata": {},
   "source": [
    "In particular for the fft one might want to average a number of traces together to improve the SNR. For this we also have a convenience function available. It uses a rolling average so only 2 traces are ever stored in the memory; this means you don't have to be afraid of memory overflow when for example trying to average 1000 traces of 1e5 points each."
   ]
  },
  {
   "cell_type": "code",
   "execution_count": null,
   "metadata": {
    "ExecuteTime": {
     "end_time": "2021-01-19T13:41:35.690602Z",
     "start_time": "2021-01-19T13:39:48.375267Z"
    }
   },
   "outputs": [],
   "source": [
    "def init_measurement(d): \n",
    "    print('Starting measurement.')\n",
    "def end_measurement(d):\n",
    "    print('Measurement finished.')\n",
    "\n",
    "sample_name = 'sample'\n",
    "exp = qc.load_or_create_experiment(experiment_name='averaged_PSD', sample_name=sample_name)\n",
    "meas = Measurement(exp, station)\n",
    "\n",
    "result = pysweep.sweep(init_measurement, end_measurement, \n",
    "                       cvna.measure_PSD_averaged(averages=10, cw_frequency=4.5e9, t_int=10, bw=1e4, pwr=-37),\n",
    "                       databackend = pysweep.databackends.qcodes.DataBackend(meas))\n",
    "\n"
   ]
  },
  {
   "cell_type": "markdown",
   "metadata": {},
   "source": [
    "## SNR Measurements"
   ]
  },
  {
   "cell_type": "markdown",
   "metadata": {},
   "source": [
    "The final function we have available for the CW mode is particularly useful for amplifier characterisation, such as for the TWPA. It allows one to measure the signal (mean), noise (std) and SNR (mean/noise) at a fixed frequency versus QCoDeS parameters of choice."
   ]
  },
  {
   "cell_type": "code",
   "execution_count": null,
   "metadata": {
    "ExecuteTime": {
     "end_time": "2021-01-19T13:43:52.916446Z",
     "start_time": "2021-01-19T13:43:52.787024Z"
    }
   },
   "outputs": [],
   "source": [
    "t_int = 50e-3\n",
    "bw=1e4\n",
    "npts = int(np.round(t_int*bw))\n",
    "\n",
    "def init_measurement(d): \n",
    "    station.TWPA.on()\n",
    "def end_measurement(d):\n",
    "    station.TWPA.off()\n",
    "\n",
    "sample_name = 'sample'\n",
    "exp = qc.load_or_create_experiment(experiment_name='TWPA_optimization', sample_name=sample_name)\n",
    "meas = Measurement(exp, station)\n",
    "\n",
    "result = pysweep.sweep(init_measurement, end_measurement, \n",
    "                       cvna.measure_SNR_CW(t_int=t_int, bw=bw, pwr=-38, cw_frequency=6e9),\n",
    "                       pysweep.sweep_object(TWPA_freq, np.arange(6.75e9,8.4e9,5e6)),\n",
    "                       pysweep.sweep_object(TWPA_power, np.arange(-25, -10, 0.5)),\n",
    "                       databackend = pysweep.databackends.qcodes.DataBackend(meas))"
   ]
  }
 ],
 "metadata": {
  "celltoolbar": "Initialization Cell",
  "kernelspec": {
   "display_name": "Python 3",
   "language": "python",
   "name": "python3"
  },
  "language_info": {
   "codemirror_mode": {
    "name": "ipython",
    "version": 3
   },
   "file_extension": ".py",
   "mimetype": "text/x-python",
   "name": "python",
   "nbconvert_exporter": "python",
   "pygments_lexer": "ipython3",
   "version": "3.7.7"
  },
  "toc": {
   "base_numbering": 1,
   "nav_menu": {},
   "number_sections": true,
   "sideBar": true,
   "skip_h1_title": false,
   "title_cell": "Table of Contents",
   "title_sidebar": "Contents",
   "toc_cell": false,
   "toc_position": {
    "height": "calc(100% - 180px)",
    "left": "10px",
    "top": "150px",
    "width": "383.994px"
   },
   "toc_section_display": true,
   "toc_window_display": true
  }
 },
 "nbformat": 4,
 "nbformat_minor": 2
}
