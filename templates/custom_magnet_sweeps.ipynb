{
 "cells": [
  {
   "cell_type": "markdown",
   "metadata": {},
   "source": [
    "This notebook shows showcases how to create a custom magnet instrument consisting of different current sources with 'cqed.utils.custom_magnet.py'. In this example we show how to use the Oxford Mercury IPS for the y and z axes, and the Yokogawa GS610 for the x axis.out of this. \n",
    "\n",
    "We then introduce the pysweep sweep objects we have implemented for the magnet in 'cqed.custom_pysweep_functions.magnet.py'.\n",
    "\n",
    "\n"
   ]
  },
  {
   "cell_type": "markdown",
   "metadata": {},
   "source": [
    "# Imports"
   ]
  },
  {
   "cell_type": "code",
   "execution_count": null,
   "metadata": {
    "ExecuteTime": {
     "end_time": "2021-01-19T14:01:58.962283Z",
     "start_time": "2021-01-19T14:01:58.950337Z"
    }
   },
   "outputs": [],
   "source": [
    "import pysweep\n",
    "import pysweep.databackends.debug\n",
    "import pysweep.databackends.list_backend\n",
    "import pysweep.databackends.qcodes\n",
    "import pysweep.core.measurementfunctions\n",
    "from pysweep.core.sweepobject import SweepObject\n",
    "from pysweep.core.measurementfunctions import MakeMeasurementFunction\n",
    "from pysweep.databackends.base import DataParameterFixedAxis\n",
    "from pysweep.databackends.base import DataParameter\n",
    "import pysweep.convenience as conv\n",
    "\n",
    "import qcodes as qc\n",
    "from qcodes.dataset.measurements import Measurement\n",
    "import qcodes.dataset.plotting\n",
    "from qcodes.math_utils.field_vector import FieldVector\n",
    "\n",
    "from cqed.utils.datahandling import create_local_dbase_in\n",
    "import cqed.custom_pysweep_functions.vna as cvna\n",
    "import cqed.custom_pysweep_functions.magnet as cmgnt\n",
    "import cqed.utils.custom_magnet\n",
    "\n",
    "import numpy as np\n",
    "import matplotlib.pyplot as plt"
   ]
  },
  {
   "cell_type": "markdown",
   "metadata": {},
   "source": [
    "# Set up station and QCoDeS database"
   ]
  },
  {
   "cell_type": "markdown",
   "metadata": {},
   "source": [
    "## Set up measurement station"
   ]
  },
  {
   "cell_type": "markdown",
   "metadata": {},
   "source": [
    "Choose the appropriate file for your measurement setup. The repo contains templates with commonly used instruments for K1 and K2."
   ]
  },
  {
   "cell_type": "code",
   "execution_count": null,
   "metadata": {
    "ExecuteTime": {
     "end_time": "2021-01-19T14:00:06.920413Z",
     "start_time": "2021-01-19T14:00:06.889546Z"
    }
   },
   "outputs": [],
   "source": [
    "station = qc.Station(config_file=r'C:\\code\\environments\\qcodes_dev\\cqed\\station_init\\LK2.station.yaml')"
   ]
  },
  {
   "cell_type": "markdown",
   "metadata": {},
   "source": [
    "## Set up instruments"
   ]
  },
  {
   "cell_type": "markdown",
   "metadata": {},
   "source": [
    "For this example we are only going to be using the ZNB20 VNA from R&S."
   ]
  },
  {
   "cell_type": "code",
   "execution_count": null,
   "metadata": {
    "ExecuteTime": {
     "end_time": "2021-01-19T14:00:09.451087Z",
     "start_time": "2021-01-19T14:00:09.183332Z"
    }
   },
   "outputs": [],
   "source": [
    "vna = station.load_instrument('vna')\n",
    "\n",
    "vna.add_channel('S21')\n",
    "station.vna.S21.power(-50)\n",
    "station.vna.S21.start(4e9)\n",
    "station.vna.S21.stop(8.5e9)\n",
    "station.vna.S21.bandwidth(1e3)\n",
    "station.vna.S21.npts(10001)\n",
    "\n",
    "# Automatically remove the cable delay from the phase signal\n",
    "# Should be checked in large frequency range and with higer readout power\n",
    "# Often can be fine-tuned a bit better by hand.\n",
    "station.vna.S21.set_electrical_delay_auto()"
   ]
  },
  {
   "cell_type": "code",
   "execution_count": null,
   "metadata": {
    "ExecuteTime": {
     "end_time": "2021-01-19T14:01:01.698344Z",
     "start_time": "2021-01-19T14:01:00.950015Z"
    }
   },
   "outputs": [],
   "source": [
    "mgnt = station.load_instrument('mgnt', field_limits=cmgnt.field_limit)\n",
    "mgnt.field_ramp_rate(FieldVector(x=3e-3, y=3e-3, z=3e-3))\n",
    "print('current X-field:', station.mgnt.x_measured(), 'T')\n",
    "print('current Y-field:',station.mgnt.y_measured(), 'T')\n",
    "print('current Z-field:',station.mgnt.z_measured(), 'T')"
   ]
  },
  {
   "cell_type": "code",
   "execution_count": null,
   "metadata": {
    "ExecuteTime": {
     "end_time": "2021-01-19T14:01:05.901691Z",
     "start_time": "2021-01-19T14:01:05.818038Z"
    }
   },
   "outputs": [],
   "source": [
    "yoko_x = station.load_instrument('yoko_x')\n",
    "print('Status: {}'.format(yoko_x.output()))\n",
    "print('Mode: {}'.format(yoko_x.source_mode()))\n",
    "yoko_x.output('off')\n",
    "yoko_x.source_mode('CURR')\n",
    "yoko_x.current_range(3.0) #0.5"
   ]
  },
  {
   "cell_type": "markdown",
   "metadata": {},
   "source": [
    "## Pass measurement station to pysweep \n"
   ]
  },
  {
   "cell_type": "code",
   "execution_count": null,
   "metadata": {
    "ExecuteTime": {
     "end_time": "2021-01-19T14:01:12.934504Z",
     "start_time": "2021-01-19T14:01:12.930521Z"
    }
   },
   "outputs": [],
   "source": [
    "pysweep.STATION = station"
   ]
  },
  {
   "cell_type": "markdown",
   "metadata": {},
   "source": [
    "## Name and initialize database"
   ]
  },
  {
   "cell_type": "code",
   "execution_count": null,
   "metadata": {
    "ExecuteTime": {
     "end_time": "2021-01-19T14:01:15.559857Z",
     "start_time": "2021-01-19T14:01:15.541985Z"
    }
   },
   "outputs": [],
   "source": [
    "# To place the database in D:/Data/MyExperiment/ use:\n",
    "folder = 'MyExperiment'\n",
    "\n",
    "# To place the database in a more nested folder structure, e.g. D:/Data/MyExperiment/TestSample/FirstMeasurements/, use:\n",
    "# folder = 'MyExperiment/TestSample/FirstMeasurements'\n",
    "\n",
    "# Name your database\n",
    "database_name = 'yyyy_mm_dd_Run1'\n",
    "\n",
    "create_local_dbase_in(folder_name=folder, db_name='%s.db' %(database_name))\n",
    "\n",
    "qc.config['core']['db_location']"
   ]
  },
  {
   "cell_type": "markdown",
   "metadata": {},
   "source": [
    "# Custom magnet"
   ]
  },
  {
   "cell_type": "markdown",
   "metadata": {},
   "source": [
    "Lets now build a custom magnet object with the Oxford Mercury IPS for the y and z axes, and the Yokogawa GS610 for the x axis.out of this. \n",
    "\n",
    "This entails wrapping the Yokogawa into an instrument that has the get and set commands as desired by the magnetic field pysweep sweep objects."
   ]
  },
  {
   "cell_type": "code",
   "execution_count": null,
   "metadata": {
    "ExecuteTime": {
     "end_time": "2021-01-19T14:02:06.582729Z",
     "start_time": "2021-01-19T14:02:06.577749Z"
    }
   },
   "outputs": [],
   "source": [
    "customyokox = cqed.utils.custom_magnet.CustomGS210(name='YokoGS610X', instrument=yoko_x, coil_constant=58.618, step=5e-6*59.081, delay=5e-3)"
   ]
  },
  {
   "cell_type": "markdown",
   "metadata": {},
   "source": [
    "The Oxford Mercury IPS already has its get and set commands in the structure used in our sweep objects, so that does not need to be wrapped.\n",
    "\n",
    "We then combine them into the meta instrument, add it to the station, and pass it on to the magnetic field pysweep module in 'cqed.custom_pysweep_functions.magnet.py'. "
   ]
  },
  {
   "cell_type": "code",
   "execution_count": null,
   "metadata": {
    "ExecuteTime": {
     "end_time": "2021-01-19T14:30:16.734675Z",
     "start_time": "2021-01-19T14:30:16.712770Z"
    }
   },
   "outputs": [],
   "source": [
    "custommagnet = cqed.utils.custom_magnet.CustomMagnet(name='custommagnet', x_source=customyokox, y_source=mgnt.GRPY, z_source=mgnt.GRPZ)\n",
    "station.add_component(custommagnet)\n",
    "\n",
    "mgnt_sweeps = cmgnt.Magnet(instrument=custommagnet)\n",
    "#if one does not have a custom magnet set up, then just use cmgnt.Magnet(instrument=mgnt)!"
   ]
  },
  {
   "cell_type": "markdown",
   "metadata": {},
   "source": [
    "This instrument now has many of the functions we are used to from the Oxford magnet driver, although not every function has already been implemented."
   ]
  },
  {
   "cell_type": "code",
   "execution_count": null,
   "metadata": {
    "ExecuteTime": {
     "end_time": "2021-01-19T14:30:21.884987Z",
     "start_time": "2021-01-19T14:30:21.797934Z"
    }
   },
   "outputs": [],
   "source": [
    "# Get current field strength of x, y, and z component.\n",
    "print(station.custommagnet.x_measured())\n",
    "print(station.custommagnet.y_measured())\n",
    "print(station.custommagnet.z_measured())"
   ]
  },
  {
   "cell_type": "code",
   "execution_count": null,
   "metadata": {},
   "outputs": [],
   "source": [
    "# Set all target field components to some (reasonable) value and ramp magnetic field.\n",
    "# After ramping, check field strength\n",
    "station.custommagnet.x_target(0.0e-3)\n",
    "station.custommagnet.y_target(0.0e-3)\n",
    "station.custommagnet.z_target(0.1e-3)\n",
    "\n",
    "station.mgnt.ramp(mode='safe')"
   ]
  },
  {
   "cell_type": "markdown",
   "metadata": {},
   "source": [
    "Let us now look at the pysweep objects we have created that use this custom magnet object. "
   ]
  },
  {
   "cell_type": "markdown",
   "metadata": {},
   "source": [
    "# Custom magnet sweeps"
   ]
  },
  {
   "cell_type": "markdown",
   "metadata": {},
   "source": [
    "The sweep functions below either explicitly use x, y, and z coordinates, or they calculate x, y, and z components from the spherical component input. This is done for greater control of the actual sweeping direction of the magnet.\n",
    "\n",
    "Implicit in the functions are also a number of failsafes and conventions. A field limit with a default value of r = 1.5 T is implemented that has to be manualy overriden in order to protect the TWPA shield. Furthermore, we use the ISO 80000-2:2009 physics convention for the (r, theta, phi) <--> (x, y, z) definition. In this convention the coordinates have to satisfy\n",
    "- theta: inclination angle, unit: degrees, 0 <= theta <= 180\n",
    "- phi: the azimuth (in plane) angle, unit: degrees, range: 0 <= phi <= 360\n",
    "- r: radius, unit: Tesla, range: 0 <= r <= max_field_strength"
   ]
  },
  {
   "cell_type": "markdown",
   "metadata": {},
   "source": [
    "In what follows, we also make use of the '+' functionality of pysweep to record the measured magnetic field components (cartesian or spherical) along with the desired setpoints."
   ]
  },
  {
   "cell_type": "markdown",
   "metadata": {},
   "source": [
    "## X/Y/Z sweep"
   ]
  },
  {
   "cell_type": "code",
   "execution_count": null,
   "metadata": {},
   "outputs": [],
   "source": [
    "# Function called before beginning of measurement loop.\n",
    "# This is a good place to define the VNA sweep parameters. Can also be made a function with changable parameters.\n",
    "\n",
    "def init_measurement(d):\n",
    "    # some example parameters that could be set in the init function\n",
    "    station.vna.rf_on()\n",
    "    station.vna.S21.start(4e9)\n",
    "    station.vna.S21.stop(5e9)\n",
    "    station.vna.S21.npts(1001)\n",
    "    \n",
    "    station.vna.S21.power(-20)\n",
    "    station.vna.S21.bandwidth(1e3)\n",
    "    station.vna.S21.avg(10)\n",
    "    \n",
    "    print('Starting measurement.')\n",
    "    \n",
    "# Function called after the end of the measurement.\n",
    "def end_measurement(d):\n",
    "    print('Measurement finished.')\n",
    "\n",
    "# Give your sample a meaningful name.\n",
    "sample_name = 'sample1'\n",
    "\n",
    "exp = qc.load_or_create_experiment(experiment_name='VNA_vs_mgnt_X', sample_name=sample_name)\n",
    "meas = Measurement(exp, station)\n",
    "\n",
    "result = pysweep.sweep(init_measurement, end_measurement, cmgnt.measure_magnet_components + cmgnt.measure_magnet_components_sph + cvna.cvna.measure_linear_sweep(),\n",
    "                       cmgnt.sweep_x(points = np.arange(0, 10e-3, 1e-3)),\n",
    "                       databackend = pysweep.databackends.qcodes.DataBackend(meas))"
   ]
  },
  {
   "cell_type": "markdown",
   "metadata": {},
   "source": [
    "### Phi sweep"
   ]
  },
  {
   "cell_type": "code",
   "execution_count": null,
   "metadata": {
    "ExecuteTime": {
     "end_time": "2019-12-01T17:44:08.332577Z",
     "start_time": "2019-12-01T17:12:04.636203Z"
    },
    "scrolled": true
   },
   "outputs": [],
   "source": [
    "# Give your sample a meaningful name.\n",
    "sample_name = 'sample1'\n",
    "\n",
    "exp = qc.load_or_create_experiment(experiment_name='VNA_vs_mgnt-phi', sample_name=sample_name)\n",
    "meas = Measurement(exp, station)\n",
    "\n",
    "result = pysweep.sweep(init_measurement, end_measurement, cmgnt.measure_magnet_components + cmgnt.measure_magnet_components_sph + cvna.cvna.measure_linear_sweep(), \n",
    "                  cmgnt.sweep_phi(r = 3.0e-3, theta = 90, points = np.arange(0, 360, 5)),\n",
    "                  databackend = pysweep.databackends.qcodes.DataBackend(meas))"
   ]
  },
  {
   "cell_type": "markdown",
   "metadata": {},
   "source": [
    "### Theta sweep"
   ]
  },
  {
   "cell_type": "markdown",
   "metadata": {},
   "source": [
    "In this example we override the conventions to allow sweeping to negative angles in a single continous sweep."
   ]
  },
  {
   "cell_type": "code",
   "execution_count": null,
   "metadata": {},
   "outputs": [],
   "source": [
    "# Give your sample a meaningful name.\n",
    "sample_name = 'sample1'\n",
    "\n",
    "exp = qc.load_or_create_experiment(experiment_name='VNA_vs_mgnt-theta', sample_name=sample_name)\n",
    "meas = Measurement(exp, station)\n",
    "\n",
    "result = pysweep.sweep(init_measurement, end_measurement, cmgnt.measure_magnet_components_sph + cvna.cvna.measure_linear_sweep(), \n",
    "                  cmgnt.sweep_theta(r = 3.0e-3, phi = 90, points = np.arange(-10, 11, 1), use_conventions=False),\n",
    "                  databackend = pysweep.databackends.qcodes.DataBackend(meas))"
   ]
  },
  {
   "cell_type": "markdown",
   "metadata": {},
   "source": [
    "### r sweep"
   ]
  },
  {
   "cell_type": "code",
   "execution_count": null,
   "metadata": {
    "ExecuteTime": {
     "end_time": "2019-11-27T17:02:40.492102Z",
     "start_time": "2019-11-27T16:43:39.101109Z"
    }
   },
   "outputs": [],
   "source": [
    "# Give your sample a meaningful name.\n",
    "sample_name = 'sample1'\n",
    "\n",
    "exp = qc.load_or_create_experiment(experiment_name='VNA_vs_mgnt-r', sample_name=sample_name)\n",
    "meas = Measurement(exp, station)\n",
    "\n",
    "result = pysweep.sweep(init_measurement, end_measurement, cmgnt.measure_magnet_components + cvna.cvna.measure_linear_sweep(), \n",
    "                  cmgnt.sweep_r(phi = 90, theta = 0, points = np.arange(0, 20e-3, 2e-3)),\n",
    "                  databackend = pysweep.databackends.qcodes.DataBackend(meas))"
   ]
  }
 ],
 "metadata": {
  "celltoolbar": "Initialization Cell",
  "kernelspec": {
   "display_name": "Python 3",
   "language": "python",
   "name": "python3"
  },
  "language_info": {
   "codemirror_mode": {
    "name": "ipython",
    "version": 3
   },
   "file_extension": ".py",
   "mimetype": "text/x-python",
   "name": "python",
   "nbconvert_exporter": "python",
   "pygments_lexer": "ipython3",
   "version": "3.7.7"
  },
  "toc": {
   "base_numbering": 1,
   "nav_menu": {},
   "number_sections": true,
   "sideBar": true,
   "skip_h1_title": false,
   "title_cell": "Table of Contents",
   "title_sidebar": "Contents",
   "toc_cell": false,
   "toc_position": {
    "height": "calc(100% - 180px)",
    "left": "10px",
    "top": "150px",
    "width": "384px"
   },
   "toc_section_display": true,
   "toc_window_display": true
  }
 },
 "nbformat": 4,
 "nbformat_minor": 2
}
