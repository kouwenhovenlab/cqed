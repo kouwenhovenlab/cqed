{
 "cells": [
  {
   "cell_type": "markdown",
   "metadata": {},
   "source": [
    "# Imports"
   ]
  },
  {
   "cell_type": "code",
   "execution_count": 1,
   "metadata": {
    "ExecuteTime": {
     "end_time": "2020-02-13T17:58:10.874362Z",
     "start_time": "2020-02-13T17:58:08.117664Z"
    }
   },
   "outputs": [],
   "source": [
    "import pysweep\n",
    "import pysweep.databackends.debug\n",
    "import pysweep.databackends.list_backend\n",
    "import pysweep.databackends.qcodes\n",
    "import pysweep.core.measurementfunctions\n",
    "from pysweep.core.sweepobject import SweepObject\n",
    "from pysweep.core.measurementfunctions import MakeMeasurementFunction\n",
    "from pysweep.databackends.base import DataParameterFixedAxis\n",
    "from pysweep.databackends.base import DataParameter\n",
    "import pysweep.convenience as conv\n",
    "\n",
    "from pytopo.awg_sequencing import awg_tools\n",
    "from pytopo.rf.alazar import acquisition_controllers\n",
    "from pytopo.rf.alazar import acquisition_tools\n",
    "from pytopo.rf.alazar import softsweep as ss\n",
    "from pytopo.rf.sources import HeterodyneSource\n",
    "\n",
    "\n",
    "import qcodes as qc\n",
    "from qcodes.dataset.measurements import Measurement\n",
    "import qcodes.dataset.plotting\n",
    "\n",
    "from cqed.utils.datahandling import create_local_dbase_in\n",
    "import cqed.custom_pysweep_functions.vna as cvna\n",
    "import cqed.custom_pysweep_functions.magnet as cmgnt\n",
    "\n",
    "import numpy as np\n",
    "import matplotlib.pyplot as plt"
   ]
  },
  {
   "cell_type": "markdown",
   "metadata": {},
   "source": [
    "# Set up station and QCoDeS database"
   ]
  },
  {
   "cell_type": "markdown",
   "metadata": {},
   "source": [
    "## Set up measurement station"
   ]
  },
  {
   "cell_type": "markdown",
   "metadata": {},
   "source": [
    "### K1"
   ]
  },
  {
   "cell_type": "code",
   "execution_count": null,
   "metadata": {
    "ExecuteTime": {
     "end_time": "2019-11-27T08:56:19.721093Z",
     "start_time": "2019-11-27T08:56:19.716096Z"
    }
   },
   "outputs": [],
   "source": [
    "station = qc.Station(config_file=r'D:\\OneDrive\\Setups\\LK1\\LK1_code\\code\\cqed\\station_init\\LK1.station.yaml')"
   ]
  },
  {
   "cell_type": "markdown",
   "metadata": {},
   "source": [
    "### K2"
   ]
  },
  {
   "cell_type": "code",
   "execution_count": 2,
   "metadata": {
    "ExecuteTime": {
     "end_time": "2020-02-13T17:58:10.910343Z",
     "start_time": "2020-02-13T17:58:10.876359Z"
    }
   },
   "outputs": [],
   "source": [
    "station = qc.Station(config_file=r'D:\\OneDrive\\Setups\\LK2\\LK2_code\\code\\cqed\\station_init\\LK2.station.yaml')"
   ]
  },
  {
   "cell_type": "markdown",
   "metadata": {},
   "source": [
    "## Set up instruments"
   ]
  },
  {
   "cell_type": "code",
   "execution_count": 3,
   "metadata": {
    "ExecuteTime": {
     "end_time": "2020-02-13T17:58:11.649066Z",
     "start_time": "2020-02-13T17:58:10.911343Z"
    }
   },
   "outputs": [
    {
     "name": "stdout",
     "output_type": "stream",
     "text": [
      "Connected to: OXFORD INSTRUMENTS MERCURY IPS (serial:123550029, firmware:2.5.09.000) in 0.22s\n",
      "current X-field: 0.0 T\n",
      "current Y-field: 0.0 T\n",
      "current Z-field: -0.0 T\n"
     ]
    }
   ],
   "source": [
    "mgnt = station.load_instrument('mgnt', field_limits=cmgnt.field_limit)\n",
    "print('current X-field:', station.mgnt.x_measured(), 'T')\n",
    "print('current Y-field:',station.mgnt.y_measured(), 'T')\n",
    "print('current Z-field:',station.mgnt.z_measured(), 'T')"
   ]
  },
  {
   "cell_type": "code",
   "execution_count": null,
   "metadata": {
    "ExecuteTime": {
     "end_time": "2019-12-18T14:23:51.361867Z",
     "start_time": "2019-12-18T14:23:51.247913Z"
    }
   },
   "outputs": [],
   "source": [
    "ivvi = station.load_ivvi()\n",
    "ivvi.print_readable_snapshot()"
   ]
  },
  {
   "cell_type": "code",
   "execution_count": 4,
   "metadata": {
    "ExecuteTime": {
     "end_time": "2020-02-13T17:58:14.162885Z",
     "start_time": "2020-02-13T17:58:13.681106Z"
    }
   },
   "outputs": [
    {
     "name": "stdout",
     "output_type": "stream",
     "text": [
      "Connected to: Agilent Technologies E8267C (serial:US42340172, firmware:C.03.85) in 0.05s\n",
      "Connected to: Rohde&Schwarz SGS100A (serial:1416.0505k02/111578, firmware:4.2.76.0-4.30.046.195) in 0.03s\n",
      "Connected to: Rohde&Schwarz SGS100A (serial:1416.0505k02/110432, firmware:3.1.19.15-3.50.124.67) in 0.03s\n",
      "Connected to: Rohde&Schwarz SGS100A (serial:1416.0505k02/110868, firmware:3.1.19.26-3.50.124.73) in 0.03s\n"
     ]
    }
   ],
   "source": [
    "qubsrc = station.load_qubsrc()\n",
    "\n",
    "RF = station.load_RF()\n",
    "RF.ref_osc_source('EXT')\n",
    "RF.ref_osc_external_freq('10MHz')\n",
    "RF.ref_LO_out('LO')\n",
    "\n",
    "LO = station.load_LO()\n",
    "LO.ref_osc_source('INT')\n",
    "LO.ref_osc_output_freq('10MHz')\n",
    "\n",
    "TWPA = station.load_TWPA()\n",
    "TWPA.ref_osc_source('EXT')\n",
    "TWPA.ref_osc_external_freq('10MHz')\n",
    "\n",
    "hetsrc = HeterodyneSource('hetsrc', RF=RF, LO=LO)\n",
    "station.add_component(hetsrc)\n",
    "hetsrc.IF(25e6)"
   ]
  },
  {
   "cell_type": "code",
   "execution_count": 5,
   "metadata": {
    "ExecuteTime": {
     "end_time": "2020-02-13T17:58:15.801105Z",
     "start_time": "2020-02-13T17:58:15.648178Z"
    }
   },
   "outputs": [
    {
     "name": "stdout",
     "output_type": "stream",
     "text": [
      "Connected to: TEKTRONIX AWG5014C (serial:B050346, firmware:SCPI:99.0 FW:4.6.0.7) in 0.06s\n"
     ]
    }
   ],
   "source": [
    "awg = station.load_awg()\n",
    "awg.ref_source('EXT')"
   ]
  },
  {
   "cell_type": "code",
   "execution_count": 6,
   "metadata": {
    "ExecuteTime": {
     "end_time": "2020-02-13T17:58:18.691823Z",
     "start_time": "2020-02-13T17:58:16.954643Z"
    }
   },
   "outputs": [
    {
     "name": "stderr",
     "output_type": "stream",
     "text": [
      "C:\\Users\\LocalAdmin\\.conda\\envs\\qcodes\\lib\\site-packages\\qcodes\\instrument_drivers\\AlazarTech\\ATS.py:335: UserWarning: Using Internal clock but parameter external_sample_rate is set.This will have no effect and is ignored\n",
      "  warnings.warn(\"Using Internal clock but parameter external_sample_rate is set.\"\n"
     ]
    }
   ],
   "source": [
    "alazar = station.load_alazar()\n",
    "acquisition_tools.simple_alazar_setup_ext_trigger(256, 1, 1)"
   ]
  },
  {
   "cell_type": "code",
   "execution_count": 7,
   "metadata": {
    "ExecuteTime": {
     "end_time": "2020-02-13T17:58:21.905335Z",
     "start_time": "2020-02-13T17:58:20.024223Z"
    }
   },
   "outputs": [
    {
     "name": "stdout",
     "output_type": "stream",
     "text": [
      "Allocating 500000000 elements (2000.0 MB, dtype: <class 'numpy.int32'>)\n",
      "Allocating 500000000 elements (2000.0 MB, dtype: <class 'numpy.int32'>)\n"
     ]
    }
   ],
   "source": [
    "# controller for 'simple' post-acquisition demod\n",
    "post_iq_acq = acquisition_controllers.PostIQCtl('post_iq_acq', 'alazar', allocate_samples=5e8)\n",
    "station.add_component(post_iq_acq)\n",
    "post_iq_acq.demod_frq(hetsrc.IF())\n",
    "post_iq_acq.reference_channel(1)\n",
    "\n",
    "# controller that can step frequencies during acquisition.\n",
    "softsweep_ctl = ss.SoftSweepCtl('softsweep_ctl', 'alazar', allocate_samples=5e8)\n",
    "station.add_component(softsweep_ctl)\n",
    "softsweep_ctl.demod_frq(hetsrc.IF())\n",
    "softsweep_ctl.reference_channel(1)"
   ]
  },
  {
   "cell_type": "code",
   "execution_count": 8,
   "metadata": {
    "ExecuteTime": {
     "end_time": "2020-02-13T17:58:21.913331Z",
     "start_time": "2020-02-13T17:58:21.907336Z"
    }
   },
   "outputs": [],
   "source": [
    "from pytopo.rf.alazar.awg_sequences import TriggerSequence\n",
    "\n",
    "TriggerSequence.chan_map = {\n",
    "    1 : ['pulse', 'ats_trigger', 'ro_trigger'],\n",
    "}\n",
    "TriggerSequence.chan_settings = {\n",
    "    1 : {\n",
    "        'marker_hi' : [1.5, 1.5],\n",
    "        'marker_lo' : [-0.3, -0.3],\n",
    "        },\n",
    "    2 : {\n",
    "        'marker_hi' : [1.5, 1.5],\n",
    "        'marker_lo' : [-0.3, -0.3],\n",
    "        },\n",
    "}"
   ]
  },
  {
   "cell_type": "code",
   "execution_count": 12,
   "metadata": {
    "ExecuteTime": {
     "end_time": "2020-02-13T18:30:14.398270Z",
     "start_time": "2020-02-13T18:30:10.308791Z"
    }
   },
   "outputs": [
    {
     "name": "stdout",
     "output_type": "stream",
     "text": [
      "Setup capture: 15974.4 MB total\n",
      " * Buffers: 40000 (0.39936 MB/buffer) | (Allocated buffers: 40 = 15.9744 MB)\n",
      " * Records: 1 (0.39936 MB/record)\n",
      " * Samples: 49920 (= 499.2 us)\n",
      " * Channels: 2\n"
     ]
    }
   ],
   "source": [
    "fvals = np.arange(5, 6.0, 1e-3) * 1e6\n",
    "ss.setup_triggered_softsweep(softsweep_ctl, station.hetsrc.frequency, fvals, 20e-3,\n",
    "                             time_bin=0.5e-3, setup_awg=True, verbose=True, post_integration_delay=10e-6)"
   ]
  },
  {
   "cell_type": "code",
   "execution_count": 13,
   "metadata": {
    "ExecuteTime": {
     "end_time": "2020-02-13T18:30:47.464031Z",
     "start_time": "2020-02-13T18:30:16.002779Z"
    }
   },
   "outputs": [
    {
     "name": "stdout",
     "output_type": "stream",
     "text": [
      "Starting experimental run with id: 20. \n",
      "Setup capture: 7987.2 MB total\n",
      " * Buffers: 20000 (0.39936 MB/buffer) | (Allocated buffers: 40 = 15.9744 MB)\n",
      " * Records: 1 (0.39936 MB/record)\n",
      " * Samples: 49920 (= 499.2 us)\n",
      " * Channels: 2\n",
      "Done! 500 (5.99800e+09)\r"
     ]
    }
   ],
   "source": [
    "fvals = np.arange(5, 6.0, 2e-3) * 1e9\n",
    "softsweep_ctl.next_point_trigger_func = lambda: awg_tools.trigger_awg_when_ready(station.awg)\n",
    "softsweep_ctl.settling_time = 0.01\n",
    "\n",
    "ds = ss.measure_triggered_softsweep(\n",
    "    softsweep_ctl, station.hetsrc.frequency, fvals, integration_time=20e-3, channel=0\n",
    ")"
   ]
  },
  {
   "cell_type": "code",
   "execution_count": 16,
   "metadata": {
    "ExecuteTime": {
     "end_time": "2020-02-13T18:42:15.840649Z",
     "start_time": "2020-02-13T18:41:49.580555Z"
    }
   },
   "outputs": [
    {
     "name": "stdout",
     "output_type": "stream",
     "text": [
      "Done! 500 (5.99800e+09)\r"
     ]
    }
   ],
   "source": [
    "data = np.squeeze(softsweep_ctl.acquisition())[..., 0]"
   ]
  },
  {
   "cell_type": "code",
   "execution_count": 18,
   "metadata": {
    "ExecuteTime": {
     "end_time": "2020-02-13T18:46:30.108904Z",
     "start_time": "2020-02-13T18:46:30.101908Z"
    }
   },
   "outputs": [],
   "source": [
    "data = qc.load_by_id(20) "
   ]
  },
  {
   "cell_type": "code",
   "execution_count": 25,
   "metadata": {
    "ExecuteTime": {
     "end_time": "2020-02-13T18:47:30.006656Z",
     "start_time": "2020-02-13T18:47:29.862725Z"
    }
   },
   "outputs": [
    {
     "data": {
      "text/plain": [
       "[<matplotlib.lines.Line2D at 0x23903446788>]"
      ]
     },
     "execution_count": 25,
     "metadata": {},
     "output_type": "execute_result"
    },
    {
     "data": {
      "image/png": "[encoded data removed]",
      "text/plain": [
       "<Figure size 432x288 with 1 Axes>"
      ]
     },
     "metadata": {
      "needs_background": "light"
     },
     "output_type": "display_data"
    }
   ],
   "source": [
    "plt.plot(20*np.log10(data.get_data('amplitude')[0][0]))"
   ]
  },
  {
   "cell_type": "code",
   "execution_count": 14,
   "metadata": {
    "ExecuteTime": {
     "end_time": "2020-02-13T18:31:12.799933Z",
     "start_time": "2020-02-13T18:31:12.442095Z"
    }
   },
   "outputs": [
    {
     "data": {
      "text/plain": [
       "([<matplotlib.axes._subplots.AxesSubplot at 0x23a46778148>,\n",
       "  <matplotlib.axes._subplots.AxesSubplot at 0x23a467adfc8>],\n",
       " [None, None])"
      ]
     },
     "execution_count": 14,
     "metadata": {},
     "output_type": "execute_result"
    },
    {
     "data": {
      "image/png": "[encoded data removed]",
      "text/plain": [
       "<Figure size 432x288 with 1 Axes>"
      ]
     },
     "metadata": {
      "needs_background": "light"
     },
     "output_type": "display_data"
    },
    {
     "data": {
      "image/png": "[encoded data removed]",
      "text/plain": [
       "<Figure size 432x288 with 1 Axes>"
      ]
     },
     "metadata": {
      "needs_background": "light"
     },
     "output_type": "display_data"
    }
   ],
   "source": [
    "qcodes.dataset.plotting.plot_by_id(20)"
   ]
  },
  {
   "cell_type": "code",
   "execution_count": 44,
   "metadata": {
    "ExecuteTime": {
     "end_time": "2020-02-13T17:23:42.917675Z",
     "start_time": "2020-02-13T17:23:42.909678Z"
    }
   },
   "outputs": [],
   "source": [
    "class manual_ac(qcodes.instrument_drivers.AlazarTech.ATS.AcquisitionController):\n",
    "    def __init__(self, name, alazar_name, **kwargs):\n",
    "        self.acquisitionkwargs = {}\n",
    "        super().__init__(name, alazar_name, **kwargs)\n",
    "        self.buffer = None\n",
    "        \n",
    "    def pre_start_capture(self):\n",
    "        self.buffer = None\n",
    "        \n",
    "    def pre_acquire(self):\n",
    "        pass\n",
    "    \n",
    "    def handle_buffer(self, buffer, buffer_number=None):\n",
    "        self.buffer = buffer.copy()\n",
    "        \n",
    "    def post_acquire(self):\n",
    "        return self.buffer\n",
    "    \n",
    "    def do_acquisition(self):\n",
    "        \"\"\"\n",
    "        this method performs an acquisition, which is the get_cmd for the\n",
    "        acquisiion parameter of this instrument\n",
    "        :return:\n",
    "        \"\"\"\n",
    "        value = self._get_alazar().acquire(acquisition_controller=self,\n",
    "                                           **self.acquisitionkwargs)\n",
    "        return value"
   ]
  },
  {
   "cell_type": "code",
   "execution_count": 45,
   "metadata": {
    "ExecuteTime": {
     "end_time": "2020-02-13T17:23:51.784771Z",
     "start_time": "2020-02-13T17:23:51.781774Z"
    }
   },
   "outputs": [],
   "source": [
    "mac = manual_ac('mac', 'alazar')"
   ]
  },
  {
   "cell_type": "code",
   "execution_count": 46,
   "metadata": {
    "ExecuteTime": {
     "end_time": "2020-02-13T17:23:56.585801Z",
     "start_time": "2020-02-13T17:23:56.580803Z"
    }
   },
   "outputs": [],
   "source": [
    "mac.acquisitionkwargs = dict(samples_per_record=9600, records_per_buffer=1, buffers_per_acquisition=1, channel_selection='A', mode='NPT')"
   ]
  },
  {
   "cell_type": "code",
   "execution_count": 70,
   "metadata": {
    "ExecuteTime": {
     "end_time": "2020-02-13T17:51:34.439161Z",
     "start_time": "2020-02-13T17:51:34.402179Z"
    }
   },
   "outputs": [],
   "source": [
    "r = mac.do_acquisition()"
   ]
  },
  {
   "cell_type": "code",
   "execution_count": 71,
   "metadata": {
    "ExecuteTime": {
     "end_time": "2020-02-13T17:51:34.819982Z",
     "start_time": "2020-02-13T17:51:34.814983Z"
    }
   },
   "outputs": [
    {
     "data": {
      "text/plain": [
       "array([-0.00352941, -0.01294118, -0.02078431, ...,  0.02      ,\n",
       "        0.01137255,  0.00431373])"
      ]
     },
     "execution_count": 71,
     "metadata": {},
     "output_type": "execute_result"
    }
   ],
   "source": [
    "alazar.signal_to_volt(1, r)"
   ]
  },
  {
   "cell_type": "code",
   "execution_count": 74,
   "metadata": {
    "ExecuteTime": {
     "end_time": "2020-02-13T17:52:01.946965Z",
     "start_time": "2020-02-13T17:52:01.941968Z"
    }
   },
   "outputs": [
    {
     "data": {
      "text/plain": [
       "0.1"
      ]
     },
     "execution_count": 74,
     "metadata": {},
     "output_type": "execute_result"
    }
   ],
   "source": [
    "alazar.channel_range1()"
   ]
  },
  {
   "cell_type": "code",
   "execution_count": 73,
   "metadata": {
    "ExecuteTime": {
     "end_time": "2020-02-13T17:51:46.657823Z",
     "start_time": "2020-02-13T17:51:46.510891Z"
    }
   },
   "outputs": [
    {
     "data": {
      "text/plain": [
       "(0, 100)"
      ]
     },
     "execution_count": 73,
     "metadata": {},
     "output_type": "execute_result"
    },
    {
     "data": {
      "image/png": "[encoded data removed]",
      "text/plain": [
       "<Figure size 432x288 with 1 Axes>"
      ]
     },
     "metadata": {
      "needs_background": "light"
     },
     "output_type": "display_data"
    }
   ],
   "source": [
    "plt.plot(alazar.signal_to_volt(1, r))\n",
    "plt.xlim(0,100)"
   ]
  },
  {
   "cell_type": "code",
   "execution_count": 26,
   "metadata": {
    "ExecuteTime": {
     "end_time": "2020-02-13T15:23:49.275078Z",
     "start_time": "2020-02-13T15:23:49.122136Z"
    }
   },
   "outputs": [
    {
     "data": {
      "text/plain": [
       "[<matplotlib.lines.Line2D at 0x278fa810248>]"
      ]
     },
     "execution_count": 26,
     "metadata": {},
     "output_type": "execute_result"
    },
    {
     "data": {
      "image/png": "[encoded data removed]",
      "text/plain": [
       "<Figure size 432x288 with 1 Axes>"
      ]
     },
     "metadata": {
      "needs_background": "light"
     },
     "output_type": "display_data"
    }
   ],
   "source": [
    "plt.plot(np.abs(data0))"
   ]
  },
  {
   "cell_type": "code",
   "execution_count": 59,
   "metadata": {
    "ExecuteTime": {
     "end_time": "2020-02-13T17:27:55.219881Z",
     "start_time": "2020-02-13T17:27:55.215883Z"
    }
   },
   "outputs": [
    {
     "name": "stdout",
     "output_type": "stream",
     "text": [
      "Object `ss.setup_single_averaged_IQpoint` not found.\n"
     ]
    }
   ],
   "source": [
    "ss.setup_single_averaged_IQpoint?"
   ]
  },
  {
   "cell_type": "markdown",
   "metadata": {},
   "source": [
    "## Pass measurement station to pysweep \n"
   ]
  },
  {
   "cell_type": "markdown",
   "metadata": {},
   "source": [
    "### To be removed after merging of pysweep pull request #19"
   ]
  },
  {
   "cell_type": "code",
   "execution_count": null,
   "metadata": {
    "ExecuteTime": {
     "end_time": "2019-12-04T15:00:49.113639Z",
     "start_time": "2019-12-04T15:00:49.110642Z"
    }
   },
   "outputs": [],
   "source": [
    "pysweep.STATION = station"
   ]
  },
  {
   "cell_type": "markdown",
   "metadata": {},
   "source": [
    "## Name and initialize database"
   ]
  },
  {
   "cell_type": "code",
   "execution_count": 11,
   "metadata": {
    "ExecuteTime": {
     "end_time": "2020-02-13T14:38:03.668947Z",
     "start_time": "2020-02-13T14:38:03.416174Z"
    }
   },
   "outputs": [
    {
     "name": "stdout",
     "output_type": "stream",
     "text": [
      "Upgrading database; v0 -> v1: : 0it [00:00, ?it/s]\n",
      "Upgrading database; v1 -> v2: 100%|███████████████████████████████████████████████| 1/1 [00:00<00:00, 499.98it/s]\n",
      "Upgrading database; v2 -> v3: : 0it [00:00, ?it/s]\n",
      "Upgrading database; v3 -> v4: : 0it [00:00, ?it/s]\n",
      "Upgrading database; v4 -> v5: 100%|███████████████████████████████████████████████| 1/1 [00:00<00:00, 500.04it/s]\n",
      "Upgrading database; v5 -> v6: : 0it [00:00, ?it/s]\n",
      "Upgrading database; v6 -> v7: 100%|████████████████████████████████████████████████| 1/1 [00:00<00:00, 66.70it/s]\n",
      "Upgrading database; v7 -> v8: 100%|███████████████████████████████████████████████| 1/1 [00:00<00:00, 333.41it/s]\n"
     ]
    },
    {
     "data": {
      "text/plain": [
       "WindowsPath('D:/Data/AlazarTesting/2020_02-13_Run1.db')"
      ]
     },
     "execution_count": 11,
     "metadata": {},
     "output_type": "execute_result"
    }
   ],
   "source": [
    "# To place the database in D:/Data/MyExperiment/ use:\n",
    "folder = 'AlazarTesting'\n",
    "\n",
    "# To place the database in a more nested folder structure, e.g. D:/Data/MyExperiment/TestSample/FirstMeasurements/, use:\n",
    "# folder = 'MyExperiment/TestSample/FirstMeasurements'\n",
    "\n",
    "# Name your database\n",
    "database_name = '2020_02-13_Run1'\n",
    "\n",
    "create_local_dbase_in(folder_name=folder, db_name='%s.db' %(database_name))\n",
    "\n",
    "qc.config['core']['db_location']"
   ]
  },
  {
   "cell_type": "markdown",
   "metadata": {},
   "source": [
    "# Define pysweep functions"
   ]
  },
  {
   "cell_type": "code",
   "execution_count": null,
   "metadata": {
    "ExecuteTime": {
     "end_time": "2019-12-18T13:25:18.736443Z",
     "start_time": "2019-12-18T13:25:18.729448Z"
    }
   },
   "outputs": [],
   "source": [
    "# Function called before beginning of measurement loop.\n",
    "# This is a good place to define the VNA sweep parameters. Can also be made a function with changable parameters.\n",
    "\n",
    "def init_measurement(d):\n",
    "    # This block only to always set the electrical delay before each measurement.\n",
    "    # Large frequency range gives a more accurate automatic setting.\n",
    "    station.vna.S21.start(4e9)\n",
    "    station.vna.S21.stop(8e9)\n",
    "    station.vna.S21.set_electrical_delay_auto()\n",
    "    # End of autodelay set\n",
    "    \n",
    "    station.vna.rf_on()\n",
    "    station.vna.S21.start(4e9)\n",
    "    station.vna.S21.stop(5e9)\n",
    "    station.vna.S21.npts(1001)\n",
    "    \n",
    "    station.vna.S21.power(-20)\n",
    "    station.vna.S21.bandwidth(1e3)\n",
    "    station.vna.S21.avg(10)\n",
    "    \n",
    "    print('Starting measurement.')\n",
    "    \n",
    "# Function called after the end of the measurement.\n",
    "def end_measurement(d):\n",
    "    print('Measurement finished.')"
   ]
  },
  {
   "cell_type": "markdown",
   "metadata": {},
   "source": [
    "# Single VNA trace"
   ]
  },
  {
   "cell_type": "markdown",
   "metadata": {},
   "source": [
    "This just records a single VNA trace with the VNA parameters currently set or set (if specified) in the init_measurement function."
   ]
  },
  {
   "cell_type": "code",
   "execution_count": null,
   "metadata": {
    "ExecuteTime": {
     "end_time": "2019-12-18T13:25:47.275373Z",
     "start_time": "2019-12-18T13:25:37.321681Z"
    }
   },
   "outputs": [],
   "source": [
    "# Give your sample a meaningful name.\n",
    "sample_name = 'sample1'\n",
    "\n",
    "exp = qc.load_or_create_experiment(experiment_name='single_VNA_trace', sample_name=sample_name)\n",
    "meas = Measurement(exp, station)\n",
    "\n",
    "result = pysweep.sweep(init_measurement, end_measurement, cvna.return_vna_trace,\n",
    "                 databackend = pysweep.databackends.qcodes.DataBackend(meas))"
   ]
  },
  {
   "cell_type": "markdown",
   "metadata": {},
   "source": [
    "For plotting of the generated dataset in the notebook directly"
   ]
  },
  {
   "cell_type": "code",
   "execution_count": null,
   "metadata": {
    "ExecuteTime": {
     "end_time": "2019-12-18T13:30:31.310958Z",
     "start_time": "2019-12-18T13:30:30.970112Z"
    }
   },
   "outputs": [],
   "source": [
    "qc.dataset.plotting.plot_dataset(result.datasaver.dataset)"
   ]
  },
  {
   "cell_type": "markdown",
   "metadata": {},
   "source": [
    "# Power sweep"
   ]
  },
  {
   "cell_type": "code",
   "execution_count": null,
   "metadata": {
    "ExecuteTime": {
     "end_time": "2019-11-26T12:54:18.744942Z",
     "start_time": "2019-11-26T12:54:08.502365Z"
    }
   },
   "outputs": [],
   "source": [
    "# Give your sample a meaningful name.\n",
    "sample_name = 'sample1'\n",
    "\n",
    "exp = qc.load_or_create_experiment(experiment_name='VNA_vs_pwr', sample_name=sample_name)\n",
    "meas = Measurement(exp, station)\n",
    "\n",
    "result = pysweep.sweep(init_measurement, end_measurement, cvna.return_vna_trace, \n",
    "                  pysweep.sweep_object(station.vna.S21.power, np.arange(-50, -15, 5)),\n",
    "                  databackend = pysweep.databackends.qcodes.DataBackend(meas))"
   ]
  },
  {
   "cell_type": "markdown",
   "metadata": {},
   "source": [
    "# Gate sweep"
   ]
  },
  {
   "cell_type": "code",
   "execution_count": null,
   "metadata": {},
   "outputs": [],
   "source": [
    "# Give your sample a meaningful name.\n",
    "sample_name = 'sample1'\n",
    "\n",
    "exp = qc.load_or_create_experiment(experiment_name='VNA_vs_gate', sample_name=sample_name)\n",
    "meas = Measurement(exp, station)\n",
    "\n",
    "result = pysweep.sweep(init_measurement, end_measurement, cvna.return_vna_trace, \n",
    "                  pysweep.sweep_object(station.ivvi.dac1, np.arange(0, 1010, 10)),\n",
    "                  databackend = pysweep.databackends.qcodes.DataBackend(meas))"
   ]
  },
  {
   "cell_type": "markdown",
   "metadata": {},
   "source": [
    "# Magnetic field sweep"
   ]
  },
  {
   "cell_type": "markdown",
   "metadata": {
    "ExecuteTime": {
     "end_time": "2019-11-26T14:38:12.973005Z",
     "start_time": "2019-11-26T14:38:12.970008Z"
    }
   },
   "source": [
    "## Setting of x, y, z magnetic fields"
   ]
  },
  {
   "cell_type": "code",
   "execution_count": null,
   "metadata": {
    "ExecuteTime": {
     "end_time": "2019-12-01T15:38:14.423043Z",
     "start_time": "2019-12-01T15:38:14.305100Z"
    }
   },
   "outputs": [],
   "source": [
    "station.mgnt.field_ramp_rate(FieldVector(x=3e-3, y=3e-3, z=3e-3))"
   ]
  },
  {
   "cell_type": "code",
   "execution_count": null,
   "metadata": {
    "ExecuteTime": {
     "end_time": "2019-12-01T17:07:47.989908Z",
     "start_time": "2019-12-01T17:07:47.796079Z"
    }
   },
   "outputs": [],
   "source": [
    "# Get current field strength of x, y, and z component.\n",
    "print(station.mgnt.x_measured())\n",
    "print(station.mgnt.y_measured())\n",
    "print(station.mgnt.z_measured())"
   ]
  },
  {
   "cell_type": "code",
   "execution_count": null,
   "metadata": {
    "ExecuteTime": {
     "end_time": "2019-12-01T17:07:45.469991Z",
     "start_time": "2019-12-01T17:07:37.732544Z"
    }
   },
   "outputs": [],
   "source": [
    "# Set all target field components to some (reasonable) value and ramp magnetic field.\n",
    "# After ramping, check field strength\n",
    "station.mgnt.x_target(0.0e-3)\n",
    "station.mgnt.y_target(0.0e-3)\n",
    "station.mgnt.z_target(0.1e-3)\n",
    "\n",
    "station.mgnt.ramp(mode='safe')\n",
    "\n",
    "print(station.mgnt.r_measured())\n",
    "print(station.mgnt.phi_measured())\n",
    "print(station.mgnt.theta_measured())"
   ]
  },
  {
   "cell_type": "markdown",
   "metadata": {},
   "source": [
    "## The following functions are under testing, ask Lukas G./S."
   ]
  },
  {
   "cell_type": "markdown",
   "metadata": {},
   "source": [
    "The sweep functions below explicitly calculate x, y, and z components from the spherical component input. This is done for greater control of the actual sweeping direction of the magnet"
   ]
  },
  {
   "cell_type": "markdown",
   "metadata": {},
   "source": [
    "For the actual measurement, we make use of the '+' functionality of pysweep, to record the measured magnetic field components along with the desired setpoints."
   ]
  },
  {
   "cell_type": "markdown",
   "metadata": {},
   "source": [
    "### Phi sweep"
   ]
  },
  {
   "cell_type": "code",
   "execution_count": null,
   "metadata": {
    "ExecuteTime": {
     "end_time": "2019-12-01T17:44:08.332577Z",
     "start_time": "2019-12-01T17:12:04.636203Z"
    },
    "scrolled": true
   },
   "outputs": [],
   "source": [
    "# Give your sample a meaningful name.\n",
    "sample_name = 'sample1'\n",
    "\n",
    "exp = qc.load_or_create_experiment(experiment_name='VNA_vs_mgnt-phi', sample_name=sample_name)\n",
    "meas = Measurement(exp, station)\n",
    "\n",
    "result = pysweep.sweep(init_measurement, end_measurement, cmgnt.measure_magnet_components + cvna.return_vna_trace, \n",
    "                  cmgnt.sweep_phi(r = 3.0e-3, theta = 90, points = np.arange(0, 360, 5)),\n",
    "                  databackend = pysweep.databackends.qcodes.DataBackend(meas))"
   ]
  },
  {
   "cell_type": "markdown",
   "metadata": {},
   "source": [
    "### Theta sweep"
   ]
  },
  {
   "cell_type": "code",
   "execution_count": null,
   "metadata": {},
   "outputs": [],
   "source": [
    "# Give your sample a meaningful name.\n",
    "sample_name = 'sample1'\n",
    "\n",
    "exp = qc.load_or_create_experiment(experiment_name='VNA_vs_mgnt-theta', sample_name=sample_name)\n",
    "meas = Measurement(exp, station)\n",
    "\n",
    "result = pysweep.sweep(init_measurement, end_measurement, cmgnt.measure_magnet_orientation + cvna.return_vna_trace, \n",
    "                  cmgnt.sweep_theta(r = 3.0e-3, phi = 90, points = np.arange(0, 180, 5)),\n",
    "                  databackend = pysweep.databackends.qcodes.DataBackend(meas))"
   ]
  },
  {
   "cell_type": "markdown",
   "metadata": {},
   "source": [
    "### r sweep"
   ]
  },
  {
   "cell_type": "code",
   "execution_count": null,
   "metadata": {
    "ExecuteTime": {
     "end_time": "2019-11-27T17:02:40.492102Z",
     "start_time": "2019-11-27T16:43:39.101109Z"
    }
   },
   "outputs": [],
   "source": [
    "# Give your sample a meaningful name.\n",
    "sample_name = 'sample1'\n",
    "\n",
    "exp = qc.load_or_create_experiment(experiment_name='VNA_vs_mgnt-r', sample_name=sample_name)\n",
    "meas = Measurement(exp, station)\n",
    "\n",
    "result = pysweep.sweep(init_measurement, end_measurement, cmgnt.measure_magnet_orientation + cvna.return_vna_trace, \n",
    "                  cmgnt.sweep_r(phi = 90, theta = 0, points = np.arange(0, 20e-3, 2e-3)),\n",
    "                  databackend = pysweep.databackends.qcodes.DataBackend(meas))"
   ]
  }
 ],
 "metadata": {
  "celltoolbar": "Initialization Cell",
  "kernelspec": {
   "display_name": "Python 3",
   "language": "python",
   "name": "python3"
  },
  "language_info": {
   "codemirror_mode": {
    "name": "ipython",
    "version": 3
   },
   "file_extension": ".py",
   "mimetype": "text/x-python",
   "name": "python",
   "nbconvert_exporter": "python",
   "pygments_lexer": "ipython3",
   "version": "3.7.5"
  },
  "toc": {
   "base_numbering": 1,
   "nav_menu": {},
   "number_sections": true,
   "sideBar": true,
   "skip_h1_title": false,
   "title_cell": "Table of Contents",
   "title_sidebar": "Contents",
   "toc_cell": false,
   "toc_position": {
    "height": "calc(100% - 180px)",
    "left": "10px",
    "top": "150px",
    "width": "384px"
   },
   "toc_section_display": true,
   "toc_window_display": true
  }
 },
 "nbformat": 4,
 "nbformat_minor": 2
}
